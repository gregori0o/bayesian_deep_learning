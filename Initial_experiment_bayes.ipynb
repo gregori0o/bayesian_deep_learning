{
 "cells": [
  {
   "cell_type": "markdown",
   "metadata": {},
   "source": [
    "# Comparison of MLP and Bayes NN on MNIST dataset\n",
    "\n",
    "### Importing libraries"
   ]
  },
  {
   "cell_type": "code",
   "execution_count": null,
   "metadata": {},
   "outputs": [
    {
     "name": "stderr",
     "output_type": "stream",
     "text": [
      "/home/glegeza/Programming/semestr2/bayessian_deep_learning/venv/lib/python3.7/site-packages/tensorflow/python/framework/dtypes.py:526: FutureWarning: Passing (type, 1) or '1type' as a synonym of type is deprecated; in a future version of numpy, it will be understood as (type, (1,)) / '(1,)type'.\n",
      "  _np_qint8 = np.dtype([(\"qint8\", np.int8, 1)])\n",
      "/home/glegeza/Programming/semestr2/bayessian_deep_learning/venv/lib/python3.7/site-packages/tensorflow/python/framework/dtypes.py:527: FutureWarning: Passing (type, 1) or '1type' as a synonym of type is deprecated; in a future version of numpy, it will be understood as (type, (1,)) / '(1,)type'.\n",
      "  _np_quint8 = np.dtype([(\"quint8\", np.uint8, 1)])\n",
      "/home/glegeza/Programming/semestr2/bayessian_deep_learning/venv/lib/python3.7/site-packages/tensorflow/python/framework/dtypes.py:528: FutureWarning: Passing (type, 1) or '1type' as a synonym of type is deprecated; in a future version of numpy, it will be understood as (type, (1,)) / '(1,)type'.\n",
      "  _np_qint16 = np.dtype([(\"qint16\", np.int16, 1)])\n",
      "/home/glegeza/Programming/semestr2/bayessian_deep_learning/venv/lib/python3.7/site-packages/tensorflow/python/framework/dtypes.py:529: FutureWarning: Passing (type, 1) or '1type' as a synonym of type is deprecated; in a future version of numpy, it will be understood as (type, (1,)) / '(1,)type'.\n",
      "  _np_quint16 = np.dtype([(\"quint16\", np.uint16, 1)])\n",
      "/home/glegeza/Programming/semestr2/bayessian_deep_learning/venv/lib/python3.7/site-packages/tensorflow/python/framework/dtypes.py:530: FutureWarning: Passing (type, 1) or '1type' as a synonym of type is deprecated; in a future version of numpy, it will be understood as (type, (1,)) / '(1,)type'.\n",
      "  _np_qint32 = np.dtype([(\"qint32\", np.int32, 1)])\n",
      "/home/glegeza/Programming/semestr2/bayessian_deep_learning/venv/lib/python3.7/site-packages/tensorflow/python/framework/dtypes.py:535: FutureWarning: Passing (type, 1) or '1type' as a synonym of type is deprecated; in a future version of numpy, it will be understood as (type, (1,)) / '(1,)type'.\n",
      "  np_resource = np.dtype([(\"resource\", np.ubyte, 1)])\n"
     ]
    }
   ],
   "source": [
    "import tensorflow as tf\n",
    "from tensorflow.keras.models import Sequential\n",
    "from tensorflow.keras.layers import Dense, Dropout, Conv2D, MaxPooling2D, Flatten, GlobalAveragePooling2D, BatchNormalization\n",
    "from tensorflow.keras.optimizers import SGD, Adam\n",
    "from tensorflow.keras.callbacks import Callback, ModelCheckpoint\n",
    "from abc import ABC, abstractmethod\n",
    "\n",
    "\n",
    "import zhusuan as zs\n",
    "\n",
    "import numpy as np\n",
    "import matplotlib.pyplot as plt\n",
    "import mnist\n",
    "\n",
    "tf.set_random_seed(123)\n",
    "np.random.seed(321)"
   ]
  },
  {
   "cell_type": "markdown",
   "metadata": {},
   "source": [
    "### Load data"
   ]
  },
  {
   "cell_type": "code",
   "execution_count": 2,
   "metadata": {},
   "outputs": [
    {
     "data": {
      "text/plain": [
       "((4000, 784), (4000,), (1000, 784), (1000,), (1000, 784), (1000,))"
      ]
     },
     "execution_count": 2,
     "metadata": {},
     "output_type": "execute_result"
    }
   ],
   "source": [
    "\n",
    "train_X = mnist.train_images()[:5000]\n",
    "train_X = train_X.reshape(train_X.shape[0], -1) / 255.\n",
    "train_y = mnist.train_labels()[:5000]\n",
    "\n",
    "test_X = mnist.test_images()[:1000]\n",
    "test_X = test_X.reshape(test_X.shape[0], -1) / 255.\n",
    "test_y = mnist.test_labels()[:1000]\n",
    "\n",
    "train_X, val_X = train_X[:-1000], train_X[-1000:]\n",
    "train_y, val_y = train_y[:-1000], train_y[-1000:]\n",
    "\n",
    "n_train, x_dim = train_X.shape\n",
    "y_dim = 10\n",
    "\n",
    "train_X.shape, train_y.shape, val_X.shape, val_y.shape, test_X.shape, test_y.shape"
   ]
  },
  {
   "cell_type": "code",
   "execution_count": 3,
   "metadata": {},
   "outputs": [
    {
     "data": {
      "image/png": "[encoded data removed]",
      "text/plain": [
       "<Figure size 800x800 with 9 Axes>"
      ]
     },
     "metadata": {},
     "output_type": "display_data"
    }
   ],
   "source": [
    "fig, ax = plt.subplots(3, 3, figsize=(8, 8))\n",
    "for i, axi in enumerate(ax.flat):\n",
    "    axi.imshow(train_X[i].reshape(28, 28), cmap='gray')\n",
    "    axi.set(xticks=[], yticks=[], xlabel=train_y[i])\n",
    "plt.show()"
   ]
  },
  {
   "cell_type": "markdown",
   "metadata": {},
   "source": [
    "### Standarize data"
   ]
  },
  {
   "cell_type": "code",
   "execution_count": 4,
   "metadata": {},
   "outputs": [],
   "source": [
    "def standardize(data_train, data_test):\n",
    "    \"\"\"\n",
    "    Standardize a dataset to have zero mean and unit standard deviation.\n",
    "\n",
    "    :param data_train: 2-D Numpy array. Training data.\n",
    "    :param data_test: 2-D Numpy array. Test data.\n",
    "\n",
    "    :return: (train_set, test_set, mean, std), The standardized dataset and\n",
    "        their mean and standard deviation before processing.\n",
    "    \"\"\"\n",
    "    std = np.std(data_train, 0, keepdims=True)\n",
    "    std[std == 0] = 1\n",
    "    mean = np.mean(data_train, 0, keepdims=True)\n",
    "    data_train_standardized = (data_train - mean) / std\n",
    "    data_test_standardized = (data_test - mean) / std\n",
    "    mean, std = np.squeeze(mean, 0), np.squeeze(std, 0)\n",
    "    return data_train_standardized, data_test_standardized, mean, std"
   ]
  },
  {
   "cell_type": "code",
   "execution_count": 5,
   "metadata": {},
   "outputs": [],
   "source": [
    "train_X_standard, test_X_standard, _, _ = standardize(train_X, test_X)\n",
    "train_y_one_hot = np.eye(y_dim)[train_y]\n",
    "test_y_one_hot = np.eye(y_dim)[test_y]"
   ]
  },
  {
   "cell_type": "markdown",
   "metadata": {},
   "source": [
    "### Defintion of parameters"
   ]
  },
  {
   "cell_type": "code",
   "execution_count": null,
   "metadata": {},
   "outputs": [],
   "source": [
    "n_hiddens = [50]\n",
    "layer_sizes = [x_dim] + n_hiddens + [y_dim]\n",
    "\n",
    "epochs = 20\n",
    "lr = 0.01\n",
    "batch_size = 100 "
   ]
  },
  {
   "cell_type": "markdown",
   "metadata": {},
   "source": [
    "### MLP model"
   ]
  },
  {
   "cell_type": "code",
   "execution_count": null,
   "metadata": {},
   "outputs": [],
   "source": [
    "mlp = Sequential()\n",
    "mlp.add(Dense(layer_sizes[1], activation=\"relu\", input_shape=(x_dim,)))\n",
    "for out_dim in layer_sizes[2:-1]:\n",
    "    mlp.add(Dense(out_dim, activation=\"relu\"))\n",
    "mlp.add(Dense(y_dim, activation=\"softmax\"))\n",
    "\n",
    "optimizer = Adam(learning_rate=lr)\n",
    "mlp.compile(\n",
    "    loss=\"categorical_crossentropy\", optimizer=optimizer, metrics=[\"accuracy\"]\n",
    ")\n",
    "mlp.build()\n",
    "mlp.summary()"
   ]
  },
  {
   "cell_type": "code",
   "execution_count": null,
   "metadata": {},
   "outputs": [],
   "source": [
    "training_results = mlp.fit(\n",
    "                            x=train_X,\n",
    "                            y=train_y,\n",
    "                            epochs=epochs,\n",
    "                            batch_size=batch_size,\n",
    "                            shuffle=True,\n",
    "                            validation_data=(test_X, test_y),\n",
    "                        )"
   ]
  },
  {
   "cell_type": "code",
   "execution_count": null,
   "metadata": {},
   "outputs": [],
   "source": [
    "def plot_results(metrics, title=None, ylabel=None, ylim=None, metric_name=None, color=None):\n",
    "    fig, ax = plt.subplots(figsize=(15, 4))\n",
    "    if not (isinstance(metric_name, list) or isinstance(metric_name, tuple)):\n",
    "        metrics = [metrics,]\n",
    "        metric_name = [metric_name,]\n",
    "\n",
    "    for idx, metric in enumerate(metrics):    \n",
    "        ax.plot(metric, color=color[idx])\n",
    "\n",
    "    plt.xlabel(\"Epoch\")\n",
    "    plt.ylabel(ylabel)\n",
    "    plt.title(title)\n",
    "    plt.xlim([0, 20])\n",
    "    plt.ylim(ylim)\n",
    "    # Tailor x-axis tick marks\n",
    "    # ax.xaxis.set_major_locator(MultipleLocator(5))\n",
    "    # ax.xaxis.set_major_formatter(FormatStrFormatter('%d'))\n",
    "    # ax.xaxis.set_minor_locator(MultipleLocator(1))\n",
    "    plt.grid(True)\n",
    "    plt.legend(metric_name)   \n",
    "    plt.show()\n",
    "    plt.close()"
   ]
  },
  {
   "cell_type": "code",
   "execution_count": null,
   "metadata": {},
   "outputs": [],
   "source": [
    "train_loss = training_results.history[\"loss\"]\n",
    "train_acc  = training_results.history[\"accuracy\"]\n",
    "valid_loss = training_results.history[\"val_loss\"]\n",
    "valid_acc  = training_results.history[\"val_accuracy\"]\n",
    "\n",
    "plot_results([ train_loss, valid_loss ],        \n",
    "            ylabel=\"Loss\", \n",
    "            ylim = [0.0, 0.5],\n",
    "            metric_name=[\"Training Loss\", \"Validation Loss\"],\n",
    "            color=[\"g\", \"b\"]);\n",
    "\n",
    "plot_results([ train_acc, valid_acc ], \n",
    "            ylabel=\"Accuracy\",\n",
    "            ylim = [0.9, 1.0],\n",
    "            metric_name=[\"Training Accuracy\", \"Validation Accuracy\"],\n",
    "            color=[\"g\", \"b\"])"
   ]
  },
  {
   "cell_type": "markdown",
   "metadata": {},
   "source": [
    "### Bayes NN model"
   ]
  },
  {
   "cell_type": "code",
   "execution_count": 6,
   "metadata": {},
   "outputs": [],
   "source": [
    "@zs.meta_bayesian_net(scope=\"bnn\", reuse_variables=True)\n",
    "def build_bnn(x, layer_sizes, n_particles):\n",
    "    bn = zs.BayesianNet()\n",
    "    h = tf.tile(x[None, ...], [n_particles, 1, 1])\n",
    "    for i, (n_in, n_out) in enumerate(zip(layer_sizes[:-1], layer_sizes[1:])):\n",
    "        w = bn.normal(\"w\" + str(i), tf.zeros([n_out, n_in + 1]), std=1.,\n",
    "                      group_ndims=2, n_samples=n_particles)\n",
    "        h = tf.concat([h, tf.ones(tf.shape(h)[:-1])[..., None]], -1)\n",
    "        h = tf.einsum(\"imk,ijk->ijm\", w, h) / tf.sqrt(\n",
    "            tf.cast(tf.shape(h)[2], tf.float32))\n",
    "        if i < len(layer_sizes) - 2:\n",
    "            h = tf.nn.relu(h)\n",
    "\n",
    "    y_mean = bn.deterministic(\"y_mean\", h)\n",
    "    y_logstd = tf.get_variable(\"y_logstd\", shape=[],\n",
    "                               initializer=tf.constant_initializer(0.))\n",
    "    bn.normal(\"y\", y_mean, logstd=y_logstd)\n",
    "    return bn"
   ]
  },
  {
   "cell_type": "code",
   "execution_count": 7,
   "metadata": {},
   "outputs": [],
   "source": [
    "@zs.reuse_variables(scope=\"variational\")\n",
    "def build_mean_field_variational(layer_sizes, n_particles):\n",
    "    bn = zs.BayesianNet()\n",
    "    for i, (n_in, n_out) in enumerate(zip(layer_sizes[:-1], layer_sizes[1:])):\n",
    "        w_mean = tf.get_variable(\n",
    "            \"w_mean_\" + str(i), shape=[n_out, n_in + 1],\n",
    "            initializer=tf.constant_initializer(0.))\n",
    "        w_logstd = tf.get_variable(\n",
    "            \"w_logstd_\" + str(i), shape=[n_out, n_in + 1],\n",
    "            initializer=tf.constant_initializer(0.))\n",
    "        bn.normal(\"w\" + str(i), w_mean, logstd=w_logstd,\n",
    "                  n_samples=n_particles, group_ndims=2)\n",
    "    return bn"
   ]
  },
  {
   "cell_type": "code",
   "execution_count": 8,
   "metadata": {},
   "outputs": [],
   "source": [
    "n_particles = tf.placeholder(tf.int32, shape=[], name=\"n_particles\")\n",
    "x = tf.placeholder(tf.float32, shape=[None, x_dim])\n",
    "y = tf.placeholder(tf.float32, shape=[None, y_dim])\n",
    "w_names = [\"w\" + str(i) for i in range(len(layer_sizes) - 1)]"
   ]
  },
  {
   "cell_type": "code",
   "execution_count": 9,
   "metadata": {},
   "outputs": [
    {
     "name": "stdout",
     "output_type": "stream",
     "text": [
      "WARNING:tensorflow:From /home/glegeza/Programming/semestr2/bayessian_deep_learning/venv/lib/python3.7/site-packages/tensorflow/python/framework/op_def_library.py:263: colocate_with (from tensorflow.python.framework.ops) is deprecated and will be removed in a future version.\n",
      "Instructions for updating:\n",
      "Colocations handled automatically by placer.\n",
      "WARNING:tensorflow:From /home/glegeza/Programming/semestr2/bayessian_deep_learning/venv/lib/python3.7/site-packages/tensorflow/python/ops/math_ops.py:3066: to_int32 (from tensorflow.python.ops.math_ops) is deprecated and will be removed in a future version.\n",
      "Instructions for updating:\n",
      "Use tf.cast instead.\n"
     ]
    }
   ],
   "source": [
    "model = build_bnn(x, layer_sizes, n_particles)\n",
    "variational = build_mean_field_variational(layer_sizes, n_particles)\n",
    "\n",
    "def log_joint(bn):\n",
    "    log_pws = bn.cond_log_prob(w_names)\n",
    "    log_py_xw = bn.cond_log_prob('y')\n",
    "    return tf.add_n(log_pws) + tf.reduce_mean(log_py_xw, 1) * n_train\n",
    "\n",
    "model.log_joint = log_joint\n",
    "\n",
    "lower_bound = zs.variational.elbo(\n",
    "    model, {'y': y}, variational=variational, axis=0)\n",
    "cost = lower_bound.sgvb()\n",
    "\n",
    "optimizer = tf.train.AdamOptimizer(learning_rate=lr)\n",
    "infer_op = optimizer.minimize(cost)"
   ]
  },
  {
   "cell_type": "code",
   "execution_count": 10,
   "metadata": {},
   "outputs": [
    {
     "name": "stdout",
     "output_type": "stream",
     "text": [
      "WARNING:tensorflow:From /tmp/ipykernel_43295/3062898650.py:2: arg_max (from tensorflow.python.ops.gen_math_ops) is deprecated and will be removed in a future version.\n",
      "Instructions for updating:\n",
      "Use `tf.math.argmax` instead\n"
     ]
    }
   ],
   "source": [
    "y_mean = lower_bound.bn[\"y_mean\"]\n",
    "y_pred = tf.arg_max(tf.reduce_mean(y_mean, 0), 1, output_type=tf.int32)\n",
    "y_true = tf.argmax(y, 1, output_type=tf.int32)\n",
    "acc = tf.reduce_mean(tf.cast(tf.equal(y_pred, y_true), tf.float32))"
   ]
  },
  {
   "cell_type": "code",
   "execution_count": 11,
   "metadata": {},
   "outputs": [],
   "source": [
    "lb_samples = 10\n",
    "ll_samples = 1000\n",
    "iters = (n_train-1) // batch_size + 1\n",
    "test_freq = 1"
   ]
  },
  {
   "cell_type": "code",
   "execution_count": 12,
   "metadata": {},
   "outputs": [
    {
     "name": "stderr",
     "output_type": "stream",
     "text": [
      "2023-11-12 19:48:37.475410: I tensorflow/core/platform/cpu_feature_guard.cc:141] Your CPU supports instructions that this TensorFlow binary was not compiled to use: AVX2 FMA\n",
      "2023-11-12 19:48:37.498611: I tensorflow/core/platform/profile_utils/cpu_utils.cc:94] CPU Frequency: 1800000000 Hz\n",
      "2023-11-12 19:48:37.499760: I tensorflow/compiler/xla/service/service.cc:150] XLA service 0x561f25bbb780 executing computations on platform Host. Devices:\n",
      "2023-11-12 19:48:37.499836: I tensorflow/compiler/xla/service/service.cc:158]   StreamExecutor device (0): <undefined>, <undefined>\n"
     ]
    },
    {
     "name": "stdout",
     "output_type": "stream",
     "text": [
      "Epoch 1: Lower bound = -4227.78759765625\n",
      "Epoch 2: Lower bound = -3286.369384765625\n",
      "Epoch 3: Lower bound = -2699.514404296875\n",
      "Epoch 4: Lower bound = -2337.473388671875\n",
      "Epoch 5: Lower bound = -2119.9169921875\n"
     ]
    },
    {
     "name": "stderr",
     "output_type": "stream",
     "text": [
      "2023-11-12 19:48:43.990461: W tensorflow/core/framework/allocator.cc:124] Allocation of 3136000000 exceeds 10% of system memory.\n",
      "2023-11-12 19:48:44.984647: W tensorflow/core/framework/allocator.cc:124] Allocation of 3140000000 exceeds 10% of system memory.\n",
      "2023-11-12 19:48:46.068609: W tensorflow/core/framework/allocator.cc:124] Allocation of 3140000000 exceeds 10% of system memory.\n"
     ]
    },
    {
     "name": "stdout",
     "output_type": "stream",
     "text": [
      ">> TEST\n",
      ">> Test accuracy = [0.424]\n",
      "Epoch 6: Lower bound = -1934.6600341796875\n",
      "Epoch 7: Lower bound = -1766.67919921875\n",
      "Epoch 8: Lower bound = -1624.6912841796875\n",
      "Epoch 9: Lower bound = -1517.6572265625\n",
      "Epoch 10: Lower bound = -1424.156982421875\n"
     ]
    },
    {
     "name": "stderr",
     "output_type": "stream",
     "text": [
      "2023-11-12 19:48:59.505063: W tensorflow/core/framework/allocator.cc:124] Allocation of 3136000000 exceeds 10% of system memory.\n",
      "2023-11-12 19:49:00.507553: W tensorflow/core/framework/allocator.cc:124] Allocation of 3140000000 exceeds 10% of system memory.\n"
     ]
    },
    {
     "name": "stdout",
     "output_type": "stream",
     "text": [
      ">> TEST\n",
      ">> Test accuracy = [0.72]\n",
      "Epoch 11: Lower bound = -1342.939697265625\n",
      "Epoch 12: Lower bound = -1278.1011962890625\n",
      "Epoch 13: Lower bound = -1226.1505126953125\n",
      "Epoch 14: Lower bound = -1192.05615234375\n",
      "Epoch 15: Lower bound = -1171.378173828125\n",
      ">> TEST\n",
      ">> Test accuracy = [0.805]\n",
      "Epoch 16: Lower bound = -1134.120849609375\n",
      "Epoch 17: Lower bound = -1121.31787109375\n",
      "Epoch 18: Lower bound = -1088.319091796875\n",
      "Epoch 19: Lower bound = -1076.2244873046875\n",
      "Epoch 20: Lower bound = -1073.4476318359375\n",
      ">> TEST\n",
      ">> Test accuracy = [0.84]\n"
     ]
    }
   ],
   "source": [
    "# Run the inference\n",
    "with tf.Session() as sess:\n",
    "    sess.run(tf.global_variables_initializer())\n",
    "    for epoch in range(1, epochs + 1):\n",
    "        perm = np.random.permutation(train_X_standard.shape[0])\n",
    "        train_X_standard = train_X_standard[perm, :]\n",
    "        train_y_one_hot = train_y_one_hot[perm]\n",
    "        lbs = []\n",
    "        tc = []\n",
    "        for t in range(iters):\n",
    "            x_batch = train_X_standard[t * batch_size:(t + 1) * batch_size]\n",
    "            y_batch = train_y_one_hot[t * batch_size:(t + 1) * batch_size]\n",
    "            _, lb, train_cost = sess.run(\n",
    "                [infer_op, lower_bound, cost],\n",
    "                feed_dict={n_particles: lb_samples,\n",
    "                           x: x_batch, y: y_batch})\n",
    "            lbs.append(lb)\n",
    "            tc.append(np.mean(train_cost))\n",
    "        print('Epoch {}: Lower bound = {}; Cost = {}'.format(epoch, np.mean(lbs), np.mean(tc)))\n",
    "\n",
    "        if epoch % test_freq == 0:\n",
    "            test_acc, test_cost = sess.run(\n",
    "                [acc, cost],\n",
    "                feed_dict={n_particles: ll_samples,\n",
    "                           x: test_X_standard, y: test_y_one_hot})\n",
    "            print('>> TEST')\n",
    "            print('>> Test accuracy = {}; Test cost = {}'.format(test_acc, np.mean(test_cost)))"
   ]
  },
  {
   "cell_type": "code",
   "execution_count": null,
   "metadata": {},
   "outputs": [],
   "source": []
  }
 ],
 "metadata": {
  "kernelspec": {
   "display_name": "venv",
   "language": "python",
   "name": "python3"
  },
  "language_info": {
   "codemirror_mode": {
    "name": "ipython",
    "version": 3
   },
   "file_extension": ".py",
   "mimetype": "text/x-python",
   "name": "python",
   "nbconvert_exporter": "python",
   "pygments_lexer": "ipython3",
   "version": "3.7.4"
  }
 },
 "nbformat": 4,
 "nbformat_minor": 2
}
